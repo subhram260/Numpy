{
 "cells": [
  {
   "cell_type": "code",
   "execution_count": 1,
   "metadata": {},
   "outputs": [],
   "source": [
    "import numpy as np"
   ]
  },
  {
   "cell_type": "code",
   "execution_count": 42,
   "metadata": {},
   "outputs": [
    {
     "name": "stdout",
     "output_type": "stream",
     "text": [
      "[1. 2. 3.] float64\n"
     ]
    }
   ],
   "source": [
    "#np.array(dimentions)[creating array]\n",
    "aa=np.array([1,2,3],dtype=float)\n",
    "print(aa,aa.dtype)"
   ]
  },
  {
   "cell_type": "code",
   "execution_count": 55,
   "metadata": {},
   "outputs": [
    {
     "name": "stdout",
     "output_type": "stream",
     "text": [
      "[0. 0. 0.] \n",
      "\n",
      " [[0. 0.]\n",
      " [0. 0.]\n",
      " [0. 0.]] \n",
      "\n",
      " [[[0. 0. 0. 0.]\n",
      "  [0. 0. 0. 0.]\n",
      "  [0. 0. 0. 0.]]\n",
      "\n",
      " [[0. 0. 0. 0.]\n",
      "  [0. 0. 0. 0.]\n",
      "  [0. 0. 0. 0.]]]\n",
      "\n",
      "\n",
      " (3,) (3, 2) (2, 3, 4)\n"
     ]
    }
   ],
   "source": [
    "#np.zeros(dimentions)\n",
    "a=np.zeros(3)\n",
    "b=np.zeros((3,2))\n",
    "c=np.zeros((2,3,4))\n",
    "\n",
    "print(a,\"\\n\\n\",b,\"\\n\\n\",c)\n",
    "print(\"\\n\\n\",a.shape,b.shape,c.shape)"
   ]
  },
  {
   "cell_type": "code",
   "execution_count": 10,
   "metadata": {},
   "outputs": [
    {
     "name": "stdout",
     "output_type": "stream",
     "text": [
      "[[2 2]\n",
      " [2 2]\n",
      " [2 2]]\n"
     ]
    }
   ],
   "source": [
    "#np.full(dimention,value)\n",
    "d=np.full((3,2),2)\n",
    "print(d)"
   ]
  },
  {
   "cell_type": "code",
   "execution_count": 12,
   "metadata": {},
   "outputs": [
    {
     "name": "stdout",
     "output_type": "stream",
     "text": [
      "[[0.53944345 0.48626496 0.48718512 0.77995133 0.08230221]\n",
      " [0.95069937 0.17624194 0.88646466 0.62969834 0.9775802 ]\n",
      " [0.94848301 0.94419986 0.899233   0.84780355 0.7450597 ]]\n"
     ]
    }
   ],
   "source": [
    "#np.random.rand(dimentions)[array of random floate between 0-1]\n",
    "e=np.random.rand(3,5)\n",
    "print(e)"
   ]
  },
  {
   "cell_type": "code",
   "execution_count": 15,
   "metadata": {},
   "outputs": [
    {
     "name": "stdout",
     "output_type": "stream",
     "text": [
      "[[[1. 1. 1. 1. 1.]\n",
      "  [1. 1. 1. 1. 1.]\n",
      "  [1. 1. 1. 1. 1.]\n",
      "  [1. 1. 1. 1. 1.]]\n",
      "\n",
      " [[1. 1. 1. 1. 1.]\n",
      "  [1. 1. 1. 1. 1.]\n",
      "  [1. 1. 1. 1. 1.]\n",
      "  [1. 1. 1. 1. 1.]]\n",
      "\n",
      " [[1. 1. 1. 1. 1.]\n",
      "  [1. 1. 1. 1. 1.]\n",
      "  [1. 1. 1. 1. 1.]\n",
      "  [1. 1. 1. 1. 1.]]]\n"
     ]
    }
   ],
   "source": [
    "#np.ones(dimentions)\n",
    "f=np.ones((3,4,5))\n",
    "print(f)"
   ]
  },
  {
   "cell_type": "code",
   "execution_count": 38,
   "metadata": {},
   "outputs": [
    {
     "name": "stdout",
     "output_type": "stream",
     "text": [
      "[[1. 0. 0. 0.]\n",
      " [0. 1. 0. 0.]\n",
      " [0. 0. 1. 0.]\n",
      " [0. 0. 0. 1.]]\n"
     ]
    }
   ],
   "source": [
    "#np.eye(dimentions)[IDENTIY MATRIX]\n",
    "g=np.eye(4)\n",
    "print(g)"
   ]
  },
  {
   "cell_type": "code",
   "execution_count": 61,
   "metadata": {},
   "outputs": [
    {
     "name": "stdout",
     "output_type": "stream",
     "text": [
      "[[10  0  0  0  0  0  0]\n",
      " [ 0 20  0  0  0  0  0]\n",
      " [ 0  0 30  0  0  0  0]\n",
      " [ 0  0  0 40  0  0  0]\n",
      " [ 0  0  0  0 50  0  0]\n",
      " [ 0  0  0  0  0 60  0]\n",
      " [ 0  0  0  0  0  0 70]]\n"
     ]
    }
   ],
   "source": [
    "#np.diag([diagonal elements])\n",
    "h=np.diag([10,20,30,40,50,60,70])\n",
    "print(h)"
   ]
  },
  {
   "cell_type": "code",
   "execution_count": 56,
   "metadata": {},
   "outputs": [
    {
     "name": "stdout",
     "output_type": "stream",
     "text": [
      "[[0.53944345 0.48626496 0.48718512 0.77995133 0.08230221]\n",
      " [0.95069937 0.17624194 0.88646466 0.62969834 0.9775802 ]\n",
      " [0.94848301 0.94419986 0.899233   0.84780355 0.7450597 ]]\n"
     ]
    }
   ],
   "source": [
    "#saving and loading\n",
    "i=np.save(\"new_array\",e)\n",
    "j=np.load(\"new_array.npy\")\n",
    "print(j)"
   ]
  },
  {
   "cell_type": "code",
   "execution_count": 65,
   "metadata": {},
   "outputs": [
    {
     "name": "stdout",
     "output_type": "stream",
     "text": [
      "[ 0  2  4  6  8 10 12 14 16 18]\n"
     ]
    }
   ],
   "source": [
    "#np.arrange(range like for loop)\n",
    "k=np.arange(0,20,2)\n",
    "print(k)"
   ]
  },
  {
   "cell_type": "code",
   "execution_count": null,
   "metadata": {},
   "outputs": [],
   "source": [
    "#np."
   ]
  }
 ],
 "metadata": {
  "kernelspec": {
   "display_name": "Python 3",
   "language": "python",
   "name": "python3"
  },
  "language_info": {
   "codemirror_mode": {
    "name": "ipython",
    "version": 3
   },
   "file_extension": ".py",
   "mimetype": "text/x-python",
   "name": "python",
   "nbconvert_exporter": "python",
   "pygments_lexer": "ipython3",
   "version": "3.8.5"
  }
 },
 "nbformat": 4,
 "nbformat_minor": 4
}
